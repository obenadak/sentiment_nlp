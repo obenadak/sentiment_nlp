{
  "nbformat": 4,
  "nbformat_minor": 0,
  "metadata": {
    "colab": {
      "provenance": [],
      "authorship_tag": "ABX9TyNiv36u/B3LW0PZNU/inWbS",
      "include_colab_link": true
    },
    "kernelspec": {
      "name": "python3",
      "display_name": "Python 3"
    },
    "language_info": {
      "name": "python"
    }
  },
  "cells": [
    {
      "cell_type": "markdown",
      "metadata": {
        "id": "view-in-github",
        "colab_type": "text"
      },
      "source": [
        "<a href=\"https://colab.research.google.com/github/obenadak/sentiment_nlp/blob/master/sentiment_nlp.ipynb\" target=\"_parent\"><img src=\"https://colab.research.google.com/assets/colab-badge.svg\" alt=\"Open In Colab\"/></a>"
      ]
    },
    {
      "cell_type": "code",
      "source": [
        "!pip install datasets\n",
        "from datasets import load_dataset\n",
        "\n",
        "ds = load_dataset(\"fthbrmnby/turkish_product_reviews\")"
      ],
      "metadata": {
        "id": "51DMCMYIZc7i",
        "colab": {
          "base_uri": "https://localhost:8080/"
        },
        "outputId": "d8daac3d-4d25-4e3f-e73a-f710eaa890ae"
      },
      "execution_count": null,
      "outputs": [
        {
          "output_type": "stream",
          "name": "stdout",
          "text": [
            "Requirement already satisfied: datasets in /usr/local/lib/python3.10/dist-packages (3.0.1)\n",
            "Requirement already satisfied: filelock in /usr/local/lib/python3.10/dist-packages (from datasets) (3.16.1)\n",
            "Requirement already satisfied: numpy>=1.17 in /usr/local/lib/python3.10/dist-packages (from datasets) (1.26.4)\n",
            "Requirement already satisfied: pyarrow>=15.0.0 in /usr/local/lib/python3.10/dist-packages (from datasets) (16.1.0)\n",
            "Requirement already satisfied: dill<0.3.9,>=0.3.0 in /usr/local/lib/python3.10/dist-packages (from datasets) (0.3.8)\n",
            "Requirement already satisfied: pandas in /usr/local/lib/python3.10/dist-packages (from datasets) (2.2.2)\n",
            "Requirement already satisfied: requests>=2.32.2 in /usr/local/lib/python3.10/dist-packages (from datasets) (2.32.3)\n",
            "Requirement already satisfied: tqdm>=4.66.3 in /usr/local/lib/python3.10/dist-packages (from datasets) (4.66.5)\n",
            "Requirement already satisfied: xxhash in /usr/local/lib/python3.10/dist-packages (from datasets) (3.5.0)\n",
            "Requirement already satisfied: multiprocess in /usr/local/lib/python3.10/dist-packages (from datasets) (0.70.16)\n",
            "Requirement already satisfied: fsspec<=2024.6.1,>=2023.1.0 in /usr/local/lib/python3.10/dist-packages (from fsspec[http]<=2024.6.1,>=2023.1.0->datasets) (2024.6.1)\n",
            "Requirement already satisfied: aiohttp in /usr/local/lib/python3.10/dist-packages (from datasets) (3.10.8)\n",
            "Requirement already satisfied: huggingface-hub>=0.22.0 in /usr/local/lib/python3.10/dist-packages (from datasets) (0.24.7)\n",
            "Requirement already satisfied: packaging in /usr/local/lib/python3.10/dist-packages (from datasets) (24.1)\n",
            "Requirement already satisfied: pyyaml>=5.1 in /usr/local/lib/python3.10/dist-packages (from datasets) (6.0.2)\n",
            "Requirement already satisfied: aiohappyeyeballs>=2.3.0 in /usr/local/lib/python3.10/dist-packages (from aiohttp->datasets) (2.4.3)\n",
            "Requirement already satisfied: aiosignal>=1.1.2 in /usr/local/lib/python3.10/dist-packages (from aiohttp->datasets) (1.3.1)\n",
            "Requirement already satisfied: attrs>=17.3.0 in /usr/local/lib/python3.10/dist-packages (from aiohttp->datasets) (24.2.0)\n",
            "Requirement already satisfied: frozenlist>=1.1.1 in /usr/local/lib/python3.10/dist-packages (from aiohttp->datasets) (1.4.1)\n",
            "Requirement already satisfied: multidict<7.0,>=4.5 in /usr/local/lib/python3.10/dist-packages (from aiohttp->datasets) (6.1.0)\n",
            "Requirement already satisfied: yarl<2.0,>=1.12.0 in /usr/local/lib/python3.10/dist-packages (from aiohttp->datasets) (1.13.1)\n",
            "Requirement already satisfied: async-timeout<5.0,>=4.0 in /usr/local/lib/python3.10/dist-packages (from aiohttp->datasets) (4.0.3)\n",
            "Requirement already satisfied: typing-extensions>=3.7.4.3 in /usr/local/lib/python3.10/dist-packages (from huggingface-hub>=0.22.0->datasets) (4.12.2)\n",
            "Requirement already satisfied: charset-normalizer<4,>=2 in /usr/local/lib/python3.10/dist-packages (from requests>=2.32.2->datasets) (3.3.2)\n",
            "Requirement already satisfied: idna<4,>=2.5 in /usr/local/lib/python3.10/dist-packages (from requests>=2.32.2->datasets) (3.10)\n",
            "Requirement already satisfied: urllib3<3,>=1.21.1 in /usr/local/lib/python3.10/dist-packages (from requests>=2.32.2->datasets) (2.2.3)\n",
            "Requirement already satisfied: certifi>=2017.4.17 in /usr/local/lib/python3.10/dist-packages (from requests>=2.32.2->datasets) (2024.8.30)\n",
            "Requirement already satisfied: python-dateutil>=2.8.2 in /usr/local/lib/python3.10/dist-packages (from pandas->datasets) (2.8.2)\n",
            "Requirement already satisfied: pytz>=2020.1 in /usr/local/lib/python3.10/dist-packages (from pandas->datasets) (2024.2)\n",
            "Requirement already satisfied: tzdata>=2022.7 in /usr/local/lib/python3.10/dist-packages (from pandas->datasets) (2024.2)\n",
            "Requirement already satisfied: six>=1.5 in /usr/local/lib/python3.10/dist-packages (from python-dateutil>=2.8.2->pandas->datasets) (1.16.0)\n"
          ]
        }
      ]
    },
    {
      "cell_type": "code",
      "source": [
        "ds"
      ],
      "metadata": {
        "colab": {
          "base_uri": "https://localhost:8080/"
        },
        "id": "cYbAmaoMZ1Iu",
        "outputId": "fd747662-45bd-463b-ab3a-413c33f60157"
      },
      "execution_count": null,
      "outputs": [
        {
          "output_type": "execute_result",
          "data": {
            "text/plain": [
              "DatasetDict({\n",
              "    train: Dataset({\n",
              "        features: ['sentence', 'sentiment'],\n",
              "        num_rows: 235165\n",
              "    })\n",
              "})"
            ]
          },
          "metadata": {},
          "execution_count": 53
        }
      ]
    },
    {
      "cell_type": "code",
      "execution_count": null,
      "metadata": {
        "id": "vrmTEJHtStOS",
        "colab": {
          "base_uri": "https://localhost:8080/",
          "height": 206
        },
        "outputId": "729135d7-077b-478f-ef4b-d4dcad220cfe"
      },
      "outputs": [
        {
          "output_type": "execute_result",
          "data": {
            "text/plain": [
              "                                            sentence  sentiment\n",
              "0  ürünü bir kurumun laboratuarına 2 adet sipariş...          1\n",
              "1  gayet aldığım ürünün satış işlemleri, gerek ür...          1\n",
              "2  kaliteli ürün hızlı teslimat teşekkürler savra...          1\n",
              "3  tek kötü yanı içinden çıkan kablo android kabl...          1\n",
              "4  en uygun fiyat kargo ücretsiz olması daha avan...          1"
            ],
            "text/html": [
              "\n",
              "  <div id=\"df-d01790d3-5755-4264-9266-dae7a0e1cf4c\" class=\"colab-df-container\">\n",
              "    <div>\n",
              "<style scoped>\n",
              "    .dataframe tbody tr th:only-of-type {\n",
              "        vertical-align: middle;\n",
              "    }\n",
              "\n",
              "    .dataframe tbody tr th {\n",
              "        vertical-align: top;\n",
              "    }\n",
              "\n",
              "    .dataframe thead th {\n",
              "        text-align: right;\n",
              "    }\n",
              "</style>\n",
              "<table border=\"1\" class=\"dataframe\">\n",
              "  <thead>\n",
              "    <tr style=\"text-align: right;\">\n",
              "      <th></th>\n",
              "      <th>sentence</th>\n",
              "      <th>sentiment</th>\n",
              "    </tr>\n",
              "  </thead>\n",
              "  <tbody>\n",
              "    <tr>\n",
              "      <th>0</th>\n",
              "      <td>ürünü bir kurumun laboratuarına 2 adet sipariş...</td>\n",
              "      <td>1</td>\n",
              "    </tr>\n",
              "    <tr>\n",
              "      <th>1</th>\n",
              "      <td>gayet aldığım ürünün satış işlemleri, gerek ür...</td>\n",
              "      <td>1</td>\n",
              "    </tr>\n",
              "    <tr>\n",
              "      <th>2</th>\n",
              "      <td>kaliteli ürün hızlı teslimat teşekkürler savra...</td>\n",
              "      <td>1</td>\n",
              "    </tr>\n",
              "    <tr>\n",
              "      <th>3</th>\n",
              "      <td>tek kötü yanı içinden çıkan kablo android kabl...</td>\n",
              "      <td>1</td>\n",
              "    </tr>\n",
              "    <tr>\n",
              "      <th>4</th>\n",
              "      <td>en uygun fiyat kargo ücretsiz olması daha avan...</td>\n",
              "      <td>1</td>\n",
              "    </tr>\n",
              "  </tbody>\n",
              "</table>\n",
              "</div>\n",
              "    <div class=\"colab-df-buttons\">\n",
              "\n",
              "  <div class=\"colab-df-container\">\n",
              "    <button class=\"colab-df-convert\" onclick=\"convertToInteractive('df-d01790d3-5755-4264-9266-dae7a0e1cf4c')\"\n",
              "            title=\"Convert this dataframe to an interactive table.\"\n",
              "            style=\"display:none;\">\n",
              "\n",
              "  <svg xmlns=\"http://www.w3.org/2000/svg\" height=\"24px\" viewBox=\"0 -960 960 960\">\n",
              "    <path d=\"M120-120v-720h720v720H120Zm60-500h600v-160H180v160Zm220 220h160v-160H400v160Zm0 220h160v-160H400v160ZM180-400h160v-160H180v160Zm440 0h160v-160H620v160ZM180-180h160v-160H180v160Zm440 0h160v-160H620v160Z\"/>\n",
              "  </svg>\n",
              "    </button>\n",
              "\n",
              "  <style>\n",
              "    .colab-df-container {\n",
              "      display:flex;\n",
              "      gap: 12px;\n",
              "    }\n",
              "\n",
              "    .colab-df-convert {\n",
              "      background-color: #E8F0FE;\n",
              "      border: none;\n",
              "      border-radius: 50%;\n",
              "      cursor: pointer;\n",
              "      display: none;\n",
              "      fill: #1967D2;\n",
              "      height: 32px;\n",
              "      padding: 0 0 0 0;\n",
              "      width: 32px;\n",
              "    }\n",
              "\n",
              "    .colab-df-convert:hover {\n",
              "      background-color: #E2EBFA;\n",
              "      box-shadow: 0px 1px 2px rgba(60, 64, 67, 0.3), 0px 1px 3px 1px rgba(60, 64, 67, 0.15);\n",
              "      fill: #174EA6;\n",
              "    }\n",
              "\n",
              "    .colab-df-buttons div {\n",
              "      margin-bottom: 4px;\n",
              "    }\n",
              "\n",
              "    [theme=dark] .colab-df-convert {\n",
              "      background-color: #3B4455;\n",
              "      fill: #D2E3FC;\n",
              "    }\n",
              "\n",
              "    [theme=dark] .colab-df-convert:hover {\n",
              "      background-color: #434B5C;\n",
              "      box-shadow: 0px 1px 3px 1px rgba(0, 0, 0, 0.15);\n",
              "      filter: drop-shadow(0px 1px 2px rgba(0, 0, 0, 0.3));\n",
              "      fill: #FFFFFF;\n",
              "    }\n",
              "  </style>\n",
              "\n",
              "    <script>\n",
              "      const buttonEl =\n",
              "        document.querySelector('#df-d01790d3-5755-4264-9266-dae7a0e1cf4c button.colab-df-convert');\n",
              "      buttonEl.style.display =\n",
              "        google.colab.kernel.accessAllowed ? 'block' : 'none';\n",
              "\n",
              "      async function convertToInteractive(key) {\n",
              "        const element = document.querySelector('#df-d01790d3-5755-4264-9266-dae7a0e1cf4c');\n",
              "        const dataTable =\n",
              "          await google.colab.kernel.invokeFunction('convertToInteractive',\n",
              "                                                    [key], {});\n",
              "        if (!dataTable) return;\n",
              "\n",
              "        const docLinkHtml = 'Like what you see? Visit the ' +\n",
              "          '<a target=\"_blank\" href=https://colab.research.google.com/notebooks/data_table.ipynb>data table notebook</a>'\n",
              "          + ' to learn more about interactive tables.';\n",
              "        element.innerHTML = '';\n",
              "        dataTable['output_type'] = 'display_data';\n",
              "        await google.colab.output.renderOutput(dataTable, element);\n",
              "        const docLink = document.createElement('div');\n",
              "        docLink.innerHTML = docLinkHtml;\n",
              "        element.appendChild(docLink);\n",
              "      }\n",
              "    </script>\n",
              "  </div>\n",
              "\n",
              "\n",
              "<div id=\"df-630a18a1-bf12-478e-ad24-308da8be9b76\">\n",
              "  <button class=\"colab-df-quickchart\" onclick=\"quickchart('df-630a18a1-bf12-478e-ad24-308da8be9b76')\"\n",
              "            title=\"Suggest charts\"\n",
              "            style=\"display:none;\">\n",
              "\n",
              "<svg xmlns=\"http://www.w3.org/2000/svg\" height=\"24px\"viewBox=\"0 0 24 24\"\n",
              "     width=\"24px\">\n",
              "    <g>\n",
              "        <path d=\"M19 3H5c-1.1 0-2 .9-2 2v14c0 1.1.9 2 2 2h14c1.1 0 2-.9 2-2V5c0-1.1-.9-2-2-2zM9 17H7v-7h2v7zm4 0h-2V7h2v10zm4 0h-2v-4h2v4z\"/>\n",
              "    </g>\n",
              "</svg>\n",
              "  </button>\n",
              "\n",
              "<style>\n",
              "  .colab-df-quickchart {\n",
              "      --bg-color: #E8F0FE;\n",
              "      --fill-color: #1967D2;\n",
              "      --hover-bg-color: #E2EBFA;\n",
              "      --hover-fill-color: #174EA6;\n",
              "      --disabled-fill-color: #AAA;\n",
              "      --disabled-bg-color: #DDD;\n",
              "  }\n",
              "\n",
              "  [theme=dark] .colab-df-quickchart {\n",
              "      --bg-color: #3B4455;\n",
              "      --fill-color: #D2E3FC;\n",
              "      --hover-bg-color: #434B5C;\n",
              "      --hover-fill-color: #FFFFFF;\n",
              "      --disabled-bg-color: #3B4455;\n",
              "      --disabled-fill-color: #666;\n",
              "  }\n",
              "\n",
              "  .colab-df-quickchart {\n",
              "    background-color: var(--bg-color);\n",
              "    border: none;\n",
              "    border-radius: 50%;\n",
              "    cursor: pointer;\n",
              "    display: none;\n",
              "    fill: var(--fill-color);\n",
              "    height: 32px;\n",
              "    padding: 0;\n",
              "    width: 32px;\n",
              "  }\n",
              "\n",
              "  .colab-df-quickchart:hover {\n",
              "    background-color: var(--hover-bg-color);\n",
              "    box-shadow: 0 1px 2px rgba(60, 64, 67, 0.3), 0 1px 3px 1px rgba(60, 64, 67, 0.15);\n",
              "    fill: var(--button-hover-fill-color);\n",
              "  }\n",
              "\n",
              "  .colab-df-quickchart-complete:disabled,\n",
              "  .colab-df-quickchart-complete:disabled:hover {\n",
              "    background-color: var(--disabled-bg-color);\n",
              "    fill: var(--disabled-fill-color);\n",
              "    box-shadow: none;\n",
              "  }\n",
              "\n",
              "  .colab-df-spinner {\n",
              "    border: 2px solid var(--fill-color);\n",
              "    border-color: transparent;\n",
              "    border-bottom-color: var(--fill-color);\n",
              "    animation:\n",
              "      spin 1s steps(1) infinite;\n",
              "  }\n",
              "\n",
              "  @keyframes spin {\n",
              "    0% {\n",
              "      border-color: transparent;\n",
              "      border-bottom-color: var(--fill-color);\n",
              "      border-left-color: var(--fill-color);\n",
              "    }\n",
              "    20% {\n",
              "      border-color: transparent;\n",
              "      border-left-color: var(--fill-color);\n",
              "      border-top-color: var(--fill-color);\n",
              "    }\n",
              "    30% {\n",
              "      border-color: transparent;\n",
              "      border-left-color: var(--fill-color);\n",
              "      border-top-color: var(--fill-color);\n",
              "      border-right-color: var(--fill-color);\n",
              "    }\n",
              "    40% {\n",
              "      border-color: transparent;\n",
              "      border-right-color: var(--fill-color);\n",
              "      border-top-color: var(--fill-color);\n",
              "    }\n",
              "    60% {\n",
              "      border-color: transparent;\n",
              "      border-right-color: var(--fill-color);\n",
              "    }\n",
              "    80% {\n",
              "      border-color: transparent;\n",
              "      border-right-color: var(--fill-color);\n",
              "      border-bottom-color: var(--fill-color);\n",
              "    }\n",
              "    90% {\n",
              "      border-color: transparent;\n",
              "      border-bottom-color: var(--fill-color);\n",
              "    }\n",
              "  }\n",
              "</style>\n",
              "\n",
              "  <script>\n",
              "    async function quickchart(key) {\n",
              "      const quickchartButtonEl =\n",
              "        document.querySelector('#' + key + ' button');\n",
              "      quickchartButtonEl.disabled = true;  // To prevent multiple clicks.\n",
              "      quickchartButtonEl.classList.add('colab-df-spinner');\n",
              "      try {\n",
              "        const charts = await google.colab.kernel.invokeFunction(\n",
              "            'suggestCharts', [key], {});\n",
              "      } catch (error) {\n",
              "        console.error('Error during call to suggestCharts:', error);\n",
              "      }\n",
              "      quickchartButtonEl.classList.remove('colab-df-spinner');\n",
              "      quickchartButtonEl.classList.add('colab-df-quickchart-complete');\n",
              "    }\n",
              "    (() => {\n",
              "      let quickchartButtonEl =\n",
              "        document.querySelector('#df-630a18a1-bf12-478e-ad24-308da8be9b76 button');\n",
              "      quickchartButtonEl.style.display =\n",
              "        google.colab.kernel.accessAllowed ? 'block' : 'none';\n",
              "    })();\n",
              "  </script>\n",
              "</div>\n",
              "\n",
              "    </div>\n",
              "  </div>\n"
            ],
            "application/vnd.google.colaboratory.intrinsic+json": {
              "type": "dataframe",
              "variable_name": "data"
            }
          },
          "metadata": {},
          "execution_count": 54
        }
      ],
      "source": [
        "import pandas as pd\n",
        "data = pd.DataFrame(ds['train'])\n",
        "data = data.sample(frac = 1).reset_index(drop = True)\n",
        "data.head()"
      ]
    },
    {
      "cell_type": "code",
      "source": [
        "data['sentiment'].value_counts()"
      ],
      "metadata": {
        "id": "GpDaXkCJS-U1",
        "colab": {
          "base_uri": "https://localhost:8080/",
          "height": 178
        },
        "outputId": "58ec2064-011d-4771-bfc8-7533e9633e1d"
      },
      "execution_count": null,
      "outputs": [
        {
          "output_type": "execute_result",
          "data": {
            "text/plain": [
              "sentiment\n",
              "1    220284\n",
              "0     14881\n",
              "Name: count, dtype: int64"
            ],
            "text/html": [
              "<div>\n",
              "<style scoped>\n",
              "    .dataframe tbody tr th:only-of-type {\n",
              "        vertical-align: middle;\n",
              "    }\n",
              "\n",
              "    .dataframe tbody tr th {\n",
              "        vertical-align: top;\n",
              "    }\n",
              "\n",
              "    .dataframe thead th {\n",
              "        text-align: right;\n",
              "    }\n",
              "</style>\n",
              "<table border=\"1\" class=\"dataframe\">\n",
              "  <thead>\n",
              "    <tr style=\"text-align: right;\">\n",
              "      <th></th>\n",
              "      <th>count</th>\n",
              "    </tr>\n",
              "    <tr>\n",
              "      <th>sentiment</th>\n",
              "      <th></th>\n",
              "    </tr>\n",
              "  </thead>\n",
              "  <tbody>\n",
              "    <tr>\n",
              "      <th>1</th>\n",
              "      <td>220284</td>\n",
              "    </tr>\n",
              "    <tr>\n",
              "      <th>0</th>\n",
              "      <td>14881</td>\n",
              "    </tr>\n",
              "  </tbody>\n",
              "</table>\n",
              "</div><br><label><b>dtype:</b> int64</label>"
            ]
          },
          "metadata": {},
          "execution_count": 55
        }
      ]
    },
    {
      "cell_type": "code",
      "source": [
        "from sklearn.utils import resample\n",
        "\n",
        "minority_class = data[data['sentiment'] == 0]\n",
        "majority_class = data[data['sentiment'] == 1]\n",
        "\n",
        "# Upsample the minority class\n",
        "minority_upsampled = resample(minority_class, replace=True, n_samples=len(majority_class), random_state=42)\n",
        "\n",
        "# Combine the upsampled minority class with the majority class\n",
        "balanced_data = pd.concat([majority_class, minority_upsampled])\n",
        "balanced_data['sentiment'].value_counts()"
      ],
      "metadata": {
        "colab": {
          "base_uri": "https://localhost:8080/",
          "height": 178
        },
        "id": "kfwRkI0ZfIc5",
        "outputId": "0e3f2d34-7bfd-479b-c18f-8266f7e05e22"
      },
      "execution_count": null,
      "outputs": [
        {
          "output_type": "execute_result",
          "data": {
            "text/plain": [
              "sentiment\n",
              "1    220284\n",
              "0    220284\n",
              "Name: count, dtype: int64"
            ],
            "text/html": [
              "<div>\n",
              "<style scoped>\n",
              "    .dataframe tbody tr th:only-of-type {\n",
              "        vertical-align: middle;\n",
              "    }\n",
              "\n",
              "    .dataframe tbody tr th {\n",
              "        vertical-align: top;\n",
              "    }\n",
              "\n",
              "    .dataframe thead th {\n",
              "        text-align: right;\n",
              "    }\n",
              "</style>\n",
              "<table border=\"1\" class=\"dataframe\">\n",
              "  <thead>\n",
              "    <tr style=\"text-align: right;\">\n",
              "      <th></th>\n",
              "      <th>count</th>\n",
              "    </tr>\n",
              "    <tr>\n",
              "      <th>sentiment</th>\n",
              "      <th></th>\n",
              "    </tr>\n",
              "  </thead>\n",
              "  <tbody>\n",
              "    <tr>\n",
              "      <th>1</th>\n",
              "      <td>220284</td>\n",
              "    </tr>\n",
              "    <tr>\n",
              "      <th>0</th>\n",
              "      <td>220284</td>\n",
              "    </tr>\n",
              "  </tbody>\n",
              "</table>\n",
              "</div><br><label><b>dtype:</b> int64</label>"
            ]
          },
          "metadata": {},
          "execution_count": 58
        }
      ]
    },
    {
      "cell_type": "code",
      "source": [
        "import string\n",
        "import re\n",
        "import nltk\n",
        "from nltk.corpus import stopwords\n",
        "nltk.download('wordnet')\n",
        "nltk.download('stopwords')\n",
        "nltk.download('punkt')"
      ],
      "metadata": {
        "id": "DjZP6BM_TCmM",
        "colab": {
          "base_uri": "https://localhost:8080/"
        },
        "outputId": "4e5b9840-776f-472d-8925-3f7d35925c9c"
      },
      "execution_count": null,
      "outputs": [
        {
          "output_type": "stream",
          "name": "stderr",
          "text": [
            "[nltk_data] Downloading package wordnet to /root/nltk_data...\n",
            "[nltk_data]   Package wordnet is already up-to-date!\n",
            "[nltk_data] Downloading package stopwords to /root/nltk_data...\n",
            "[nltk_data]   Package stopwords is already up-to-date!\n",
            "[nltk_data] Downloading package punkt to /root/nltk_data...\n",
            "[nltk_data]   Package punkt is already up-to-date!\n"
          ]
        },
        {
          "output_type": "execute_result",
          "data": {
            "text/plain": [
              "True"
            ]
          },
          "metadata": {},
          "execution_count": 59
        }
      ]
    },
    {
      "cell_type": "code",
      "source": [
        "noktalama = string.punctuation\n",
        "etkisiz = stopwords.words('turkish')\n",
        "print(noktalama)\n",
        "print(etkisiz)"
      ],
      "metadata": {
        "id": "hMRcUzrWTKot",
        "colab": {
          "base_uri": "https://localhost:8080/"
        },
        "outputId": "36e173ad-23fe-4ed6-e821-ceeb109c1092"
      },
      "execution_count": null,
      "outputs": [
        {
          "output_type": "stream",
          "name": "stdout",
          "text": [
            "!\"#$%&'()*+,-./:;<=>?@[\\]^_`{|}~\n",
            "['acaba', 'ama', 'aslında', 'az', 'bazı', 'belki', 'biri', 'birkaç', 'birşey', 'biz', 'bu', 'çok', 'çünkü', 'da', 'daha', 'de', 'defa', 'diye', 'eğer', 'en', 'gibi', 'hem', 'hep', 'hepsi', 'her', 'hiç', 'için', 'ile', 'ise', 'kez', 'ki', 'kim', 'mı', 'mu', 'mü', 'nasıl', 'ne', 'neden', 'nerde', 'nerede', 'nereye', 'niçin', 'niye', 'o', 'sanki', 'şey', 'siz', 'şu', 'tüm', 've', 'veya', 'ya', 'yani']\n"
          ]
        }
      ]
    },
    {
      "cell_type": "code",
      "source": [
        "for d in balanced_data['sentence'].head():\n",
        "  print(d + \"\\n-----------------------\")\n",
        "  temp = ''\n",
        "  for word in d.split():\n",
        "    if word not in etkisiz and not word.isnumeric():\n",
        "      temp += word + ''\n",
        "  print(temp + '\\n*********************')"
      ],
      "metadata": {
        "id": "7bNCtyp0TVZf",
        "colab": {
          "base_uri": "https://localhost:8080/"
        },
        "outputId": "3f73a937-5531-4155-dca9-6eff949823a0"
      },
      "execution_count": null,
      "outputs": [
        {
          "output_type": "stream",
          "name": "stdout",
          "text": [
            "ürünü bir kurumun laboratuarına 2 adet sipariş ettim.kısa zamanda elimize geçti.kurum konu hakkında bize teşekürlerini  bildirdi.şuana kadar herhangi bir sıkıntı vermeyen ve memnuyetin her fırsatta belirtilmesinden ötürü ürün tavsiye edilir\n",
            "-----------------------\n",
            "ürünübirkurumunlaboratuarınaadetsiparişettim.kısazamandaelimizegeçti.kurumkonuhakkındabizeteşekürlerinibildirdi.şuanakadarherhangibirsıkıntıvermeyenmemnuyetinfırsattabelirtilmesindenötürüürüntavsiyeedilir\n",
            "*********************\n",
            "gayet aldığım ürünün satış işlemleri, gerek ürünün orjinal oluşu ve gerekse de kargo geliş süresi ile ilgili işlemler olmak üzere tüm işlemlerden çok memnun kaldığımı bildirir teşekkürlerimi sunarım, harikasınız ve iyi ki varsınız.\n",
            "-----------------------\n",
            "gayetaldığımürününsatışişlemleri,gerekürününorjinaloluşugereksekargogelişsüresiilgiliişlemlerolmaküzereişlemlerdenmemnunkaldığımıbildirirteşekkürlerimisunarım,harikasınıziyivarsınız.\n",
            "*********************\n",
            "kaliteli ürün hızlı teslimat teşekkürler savran saat\n",
            "-----------------------\n",
            "kaliteliürünhızlıteslimatteşekkürlersavransaat\n",
            "*********************\n",
            "tek kötü yanı içinden çıkan kablo android kablosu ve çok kısa. o yüzden kendi iphone şarjımla şarj ediyorum.\n",
            "-----------------------\n",
            "tekkötüyanıiçindençıkankabloandroidkablosukısa.yüzdenkendiiphoneşarjımlaşarjediyorum.\n",
            "*********************\n",
            "en uygun fiyat kargo ücretsiz olması daha avantajlı oldu renkli siparişide verdim\n",
            "-----------------------\n",
            "uygunfiyatkargoücretsizolmasıavantajlıoldurenklisiparişideverdim\n",
            "*********************\n"
          ]
        }
      ]
    },
    {
      "cell_type": "code",
      "source": [
        "for d in balanced_data['sentence'].head():\n",
        "  print(d + \"\\n-----------------------\")\n",
        "  temp = ''\n",
        "  for word in d:\n",
        "    if word not in noktalama:\n",
        "      temp += word\n",
        "  print(temp + '\\n*********************')\n",
        "  d = temp"
      ],
      "metadata": {
        "id": "CvIrHuH_UEf-",
        "colab": {
          "base_uri": "https://localhost:8080/"
        },
        "outputId": "aa07bdf7-f842-49ca-ecf5-921fe1929fc7"
      },
      "execution_count": null,
      "outputs": [
        {
          "output_type": "stream",
          "name": "stdout",
          "text": [
            "ürünü bir kurumun laboratuarına 2 adet sipariş ettim.kısa zamanda elimize geçti.kurum konu hakkında bize teşekürlerini  bildirdi.şuana kadar herhangi bir sıkıntı vermeyen ve memnuyetin her fırsatta belirtilmesinden ötürü ürün tavsiye edilir\n",
            "-----------------------\n",
            "ürünü bir kurumun laboratuarına 2 adet sipariş ettimkısa zamanda elimize geçtikurum konu hakkında bize teşekürlerini  bildirdişuana kadar herhangi bir sıkıntı vermeyen ve memnuyetin her fırsatta belirtilmesinden ötürü ürün tavsiye edilir\n",
            "*********************\n",
            "gayet aldığım ürünün satış işlemleri, gerek ürünün orjinal oluşu ve gerekse de kargo geliş süresi ile ilgili işlemler olmak üzere tüm işlemlerden çok memnun kaldığımı bildirir teşekkürlerimi sunarım, harikasınız ve iyi ki varsınız.\n",
            "-----------------------\n",
            "gayet aldığım ürünün satış işlemleri gerek ürünün orjinal oluşu ve gerekse de kargo geliş süresi ile ilgili işlemler olmak üzere tüm işlemlerden çok memnun kaldığımı bildirir teşekkürlerimi sunarım harikasınız ve iyi ki varsınız\n",
            "*********************\n",
            "kaliteli ürün hızlı teslimat teşekkürler savran saat\n",
            "-----------------------\n",
            "kaliteli ürün hızlı teslimat teşekkürler savran saat\n",
            "*********************\n",
            "tek kötü yanı içinden çıkan kablo android kablosu ve çok kısa. o yüzden kendi iphone şarjımla şarj ediyorum.\n",
            "-----------------------\n",
            "tek kötü yanı içinden çıkan kablo android kablosu ve çok kısa o yüzden kendi iphone şarjımla şarj ediyorum\n",
            "*********************\n",
            "en uygun fiyat kargo ücretsiz olması daha avantajlı oldu renkli siparişide verdim\n",
            "-----------------------\n",
            "en uygun fiyat kargo ücretsiz olması daha avantajlı oldu renkli siparişide verdim\n",
            "*********************\n"
          ]
        }
      ]
    },
    {
      "cell_type": "code",
      "source": [
        "balanced_data.to_csv(r'./cleaned.csv', index = False)"
      ],
      "metadata": {
        "id": "gaGAJHrnUayW"
      },
      "execution_count": null,
      "outputs": []
    },
    {
      "cell_type": "code",
      "source": [
        "data = pd.read_csv('cleaned.csv', sep = \",\", names = ['sentence', 'sentiment'])\n",
        "print(data.head())"
      ],
      "metadata": {
        "id": "xIZXjlyvUpQs",
        "colab": {
          "base_uri": "https://localhost:8080/"
        },
        "outputId": "aa7ee7c5-f2c2-4231-f225-6d19d6a61a10"
      },
      "execution_count": null,
      "outputs": [
        {
          "output_type": "stream",
          "name": "stdout",
          "text": [
            "                                            sentence  sentiment\n",
            "0                                           sentence  sentiment\n",
            "1  ürünü bir kurumun laboratuarına 2 adet sipariş...          1\n",
            "2  gayet aldığım ürünün satış işlemleri, gerek ür...          1\n",
            "3  kaliteli ürün hızlı teslimat teşekkürler savra...          1\n",
            "4  tek kötü yanı içinden çıkan kablo android kabl...          1\n"
          ]
        },
        {
          "output_type": "stream",
          "name": "stderr",
          "text": [
            "<ipython-input-64-deb8dcf10135>:1: DtypeWarning: Columns (1) have mixed types. Specify dtype option on import or set low_memory=False.\n",
            "  data = pd.read_csv('cleaned.csv', sep = \",\", names = ['sentence', 'sentiment'])\n"
          ]
        }
      ]
    },
    {
      "cell_type": "code",
      "source": [
        "from sklearn.model_selection import train_test_split\n",
        "X_train, X_test, y_train, y_test = train_test_split(\n",
        "    data['sentence'].values.astype('U'),\n",
        "    data['sentiment'].values.astype('U'), test_size = 0.1, random_state = 42\n",
        ")\n",
        "print(X_train.shape)\n",
        "print(X_test.shape)"
      ],
      "metadata": {
        "id": "sNIWPTV9U56d",
        "colab": {
          "base_uri": "https://localhost:8080/"
        },
        "outputId": "4a205507-14ec-4362-a81a-3c627399975f"
      },
      "execution_count": null,
      "outputs": [
        {
          "output_type": "stream",
          "name": "stdout",
          "text": [
            "(396512,)\n",
            "(44057,)\n"
          ]
        }
      ]
    },
    {
      "cell_type": "code",
      "source": [
        "from sklearn.feature_extraction.text import CountVectorizer, TfidfTransformer\n",
        "count_vect = CountVectorizer()\n",
        "X_train_counts = count_vect.fit_transform(X_train)\n",
        "print(X_train_counts.shape)"
      ],
      "metadata": {
        "id": "m4NkpZncVlHT",
        "colab": {
          "base_uri": "https://localhost:8080/"
        },
        "outputId": "0354f8e6-3516-402b-c3d0-f093a7f4e262"
      },
      "execution_count": null,
      "outputs": [
        {
          "output_type": "stream",
          "name": "stdout",
          "text": [
            "(396512, 200755)\n"
          ]
        }
      ]
    },
    {
      "cell_type": "code",
      "source": [
        "tfid_transformer = TfidfTransformer()\n",
        "X_train_tfid = tfid_transformer.fit_transform(X_train_counts)\n",
        "print(X_train_tfid.shape)"
      ],
      "metadata": {
        "id": "eioK-_HcWTYN",
        "colab": {
          "base_uri": "https://localhost:8080/"
        },
        "outputId": "b54ce2db-b5ae-444f-c1d4-25f3a82dafaa"
      },
      "execution_count": null,
      "outputs": [
        {
          "output_type": "stream",
          "name": "stdout",
          "text": [
            "(396512, 200755)\n"
          ]
        }
      ]
    },
    {
      "cell_type": "code",
      "source": [
        "from sklearn.naive_bayes import MultinomialNB\n",
        "clf = MultinomialNB().fit(X_train_tfid, y_train)\n",
        "X_test_counts = count_vect.transform(X_test)\n",
        "X_test_tfid = tfid_transformer.transform(X_test_counts)"
      ],
      "metadata": {
        "id": "Sj42J4sKWwyB"
      },
      "execution_count": null,
      "outputs": []
    },
    {
      "cell_type": "code",
      "source": [
        "y_pred = clf.predict(X_test_tfid)\n",
        "for review, sentiment in zip(X_test[:5], y_pred[:]):\n",
        "  print('%r => %s' % (review, sentiment))"
      ],
      "metadata": {
        "id": "258CcXS7XnfA",
        "colab": {
          "base_uri": "https://localhost:8080/"
        },
        "outputId": "8e186939-31d5-490e-937c-2ec6b6998010"
      },
      "execution_count": null,
      "outputs": [
        {
          "output_type": "stream",
          "name": "stdout",
          "text": [
            "'koltuk dün elime geçti, kafa kenarlıkları ve gövde kenarları elinizle çok fazla güç harcamadan kırılabilecek plastik malzemeden yapılmış. diğer bütün koltuklar öyleyse tamam, ama bugün diğer koltuk markalarından bire bir inceleme yapacağım. koltuğun amacı çocuğu sabitlemekse görevini en iyi şekilde yapar. ancak bir kaza anında ne olur bilemiyorum.' => 0\n",
            "'hem okey den wazgeçmem hemde kalsik olsun diyenler warsa adres belli. hem güwenli hemde gerçekten ekonomik..tawsiye olunur..' => 1\n",
            "'ürünü aldım çok memnunum 2 kademeli olması gerçekten çok güzel ilk yatağa girdigimde sıcak konumuna getirip yatıyorum bu konum yatağı oldukça ısıtıyor ve uyumama yakında ılık moda alıyorum ve bu sabaha kadar donmadan ve yanmadan uyuyabilmemi sağlıyor.' => 1\n",
            "'normal kameralar için kullanılabilir ancak telefon için gelen küçük aparat çok sıkıntı çıkardı belki benim ki sadece öyledir ancak fiyat perfomans açısından da fazla bir beklentimiz olmamalı zaten.' => 0\n",
            "'çok gec elime ulaştı ve yapışkanlar cok kötü, yapıştırdıkca düşüp durdu mahvettı duvarı ????' => 0\n"
          ]
        }
      ]
    },
    {
      "cell_type": "code",
      "source": [
        "from sklearn.metrics import accuracy_score\n",
        "print(accuracy_score(y_test, y_pred))"
      ],
      "metadata": {
        "id": "ZLru6HduYJaT",
        "colab": {
          "base_uri": "https://localhost:8080/"
        },
        "outputId": "09a00806-d88b-4a55-d5d9-5787e8779cfd"
      },
      "execution_count": null,
      "outputs": [
        {
          "output_type": "stream",
          "name": "stdout",
          "text": [
            "0.9134984224981274\n"
          ]
        }
      ]
    },
    {
      "cell_type": "code",
      "source": [
        "for review, sentiment in zip(X_test[:50], y_pred[:]):\n",
        "  print('%r => %s' % (review, sentiment))\n"
      ],
      "metadata": {
        "id": "WemSdvxYYewT",
        "colab": {
          "base_uri": "https://localhost:8080/"
        },
        "outputId": "72bfa431-77db-4a9e-ed0d-5e328acbb35c"
      },
      "execution_count": null,
      "outputs": [
        {
          "output_type": "stream",
          "name": "stdout",
          "text": [
            "'koltuk dün elime geçti, kafa kenarlıkları ve gövde kenarları elinizle çok fazla güç harcamadan kırılabilecek plastik malzemeden yapılmış. diğer bütün koltuklar öyleyse tamam, ama bugün diğer koltuk markalarından bire bir inceleme yapacağım. koltuğun amacı çocuğu sabitlemekse görevini en iyi şekilde yapar. ancak bir kaza anında ne olur bilemiyorum.' => 0\n",
            "'hem okey den wazgeçmem hemde kalsik olsun diyenler warsa adres belli. hem güwenli hemde gerçekten ekonomik..tawsiye olunur..' => 1\n",
            "'ürünü aldım çok memnunum 2 kademeli olması gerçekten çok güzel ilk yatağa girdigimde sıcak konumuna getirip yatıyorum bu konum yatağı oldukça ısıtıyor ve uyumama yakında ılık moda alıyorum ve bu sabaha kadar donmadan ve yanmadan uyuyabilmemi sağlıyor.' => 1\n",
            "'normal kameralar için kullanılabilir ancak telefon için gelen küçük aparat çok sıkıntı çıkardı belki benim ki sadece öyledir ancak fiyat perfomans açısından da fazla bir beklentimiz olmamalı zaten.' => 0\n",
            "'çok gec elime ulaştı ve yapışkanlar cok kötü, yapıştırdıkca düşüp durdu mahvettı duvarı ????' => 0\n",
            "'alalı altı ay oldu. bir ay sonra cok uzun sürede dolmaya başladı. sarji erken bitiyor.' => 0\n",
            "'semra hoşgör' => 0\n",
            "'güzel ürün anlatıldığı gibi. 1,77 boyundayım-85 kilo, l beden tam oldu. hızlı kargo için teşekkürler.' => 1\n",
            "'başka cihazlarla karşılaştırdığımda çok memnun kalmadım, tasarım harika, elektronik zayıf ....' => 0\n",
            "'sadece deriyi yumuşatıyor ama kir falan çıkardığı yok aynı zamanda çok çabuk bitiyor.alacak olan arkadaşlara tavsiye etmem.benim işimi görmedi.alacak arkadaşlara saygılar' => 0\n",
            "'parasıyla orantılı on numara alet haznesine bi tane ıslak mendil koyun toz yapmaz' => 1\n",
            "'ürün ortalama bir ürün. yani emniyet kemeri geçiş yerleri yok. bana gönderilen kutuda ama var gibi gösterilmişti. i̇pleri ince ve hemen kopabilir.' => 0\n",
            "'zil sesi çocuğumun ilgisini hiç çekmedi. sadce görüntüsüyle ilgilendi. almazsanızda olur.' => 0\n",
            "'yaklaşık 1 ay önce  mağazadan aldım aldığım gün içinde kapakta sorun çıkta servise gönderdik sonra tava ve tencerenin birini kullandık  ama kullanmaz olaydık iç kısımlarda kararmalar oldu almadan önce düşünün  bence hemen iyade ettim paramızı geri aldık tşklr.' => 0\n",
            "'alin alin' => 0\n",
            "'bebeğin dolabı açıp karıştırmasını engelliyor.' => 0\n",
            "'bir yıldır kullanıyorum, telefon fiyatına göre iyi sayılır. artıları 8 gerçek çekirdek, hızlı işlemci olması, oldukça hafif olması,görüşmeleri kayıt edebilmesi, kılıfı ile birlikte gelmesi, ışık durumuna göre ekran parlaklığının otomatik olarak değişmesi, 4g yi desteklemesi,  eksileri android 6 ve üstünü desteklemiyor, turkcell romlu gelmesi, fotoğraf çekimi iyi değil, odaklama sıkıntısı yapıyor. klavyesi görseli iyi değil, fotoğraf uygulaması iyi değil.  bu fiyata göre beklentiniz olsun.' => 1\n",
            "'ürün 3 günde elime geçti. i̇lk kahvemi içtim hoşuma gitti. i̇yi iş çıkarmışlar. satıcıya ve üreticiye teşekkür ederim. fiyatının pahalı olmasından başka sıkıntı yok.' => 1\n",
            "'ürünü tavsi̇ye etmi̇yorum ! vasatin altinda !' => 0\n",
            "'i̇lk sorun 2100w olarak gözüküyor görsellerde ve açıklamalar ve özellikler bölümünde yeterli bilgi olmadığı için oldukça problem yaratıyor. ürünün aparatları oldukça narin ve kullanım esnasında insana güven hissi uyandırmıyor fakat 800w gücüne göre çekim gücü oldukça yüksek, evden çıkan pislikler insanı şaşırtıyor ve enerji tüketimi konusunda gerçekten harika. herşeye rağmen tavsiye ederim' => 1\n",
            "'bu fi̇yata gerçekten i̇yi̇ bi̇r telefon hemde özelli̇ği̇ galxy gi̇o ya göre daha üstün bence aradaki̇ fi̇yat farkina deği̇l özelli̇ği̇ne bakin' => 1\n",
            "'oldukça kötü bir cihaz eksik özellikleri ile düzgün çalışmayan sözde dijital ekranı ile aldığıma pişman olduğum berbat bişey tarifi yok tavsiye olunmaz kımse yaklaşmasın bencee zaten ürün açıklaması bile yetersiz belliydi böyle çıkıcağı.' => 0\n",
            "'uygun fiyatlı işimi görecek bir ürün arıyordum fiyat performans olarak ihtiyacımı karşıladığını söyleyebilirim. ..elbette ihtiyaç hacme göre değişebilir fazla dondurma hacmine ihtiyaç duyanlar tercihlerini ona göre yapmalılar.' => 1\n",
            "'fare fiyatına göre fena değil. fakat bazen pilini çıkarıp takmak zorunda kalıyorum kendi kendine donuyor fare. duracell pil olmasına rağmen.' => 0\n",
            "'ama hepsiburada berbat bi alışveriş sitesi kalemi sipariş edeli 10 gün oldu ürün halen tedarik sürecinde bu nasıl iş anlamadım... kalem güzel alabi̇li̇rsi̇ni̇z ama başka bi̇r si̇teden alin deri̇m ben yada büyük kirtasi̇yelerden...' => 0\n",
            "'ürünü yeni deneme şansım oldu. ürün şık, güzel ambalajlanmış. kargolama süresi çok iyi.  araçta doğrudan usb çıkışı olmasına rağmen daha hızlı şarj yapsın diye bu ürünü aldım. fakat arabanın usb çıkışıyla bu ürünle yaptığım şarj süresi arasında bir farklılık yok. şarj etme süresi konusunda beklentiyi yüksek tutmayın. prizden yaptığınız hızlı şarj gibi bir şey yok. almasam da olurmuş.' => 0\n",
            "'başka mamaları iştahla yiyen kedilerim bu mamayı tüketmekte pek hevesli görünmüyor.' => 0\n",
            "'geldim buradan aldım , çok da iyi yaptım,' => 1\n",
            "'cumartesi akşamı sipariş oluşturdum. pazartesi akşamı elimdeydi. hemen kurdum. sallantı olacak mı diye meraktaydım, hiç öyle bir şey yok. başka ürünlerle karşılaştıramam. spor salonundakiler gibi profesyonel değil tabiki ama evde kullanım için bence eksiksiz ve kusursuz... (178cm boyda 79 kilodayım)' => 1\n",
            "'ürün sessiz ancak başka bi numarası da yok zaten 1000 watlık bir süpürgeden çok bir şey beklememek gerekiyor yorumlara aldanarak aldım çıkan toza çok şaşıracaksınız gibisinden ama torbalı güçlü bir süpürgenin bundan fazlasını toplamadığı  ne malum eski süpürgemiz on yıllıktı alman malı 2200 watt gücünde ve halıya yapışıyordu bu ürün bu parayı etmez kesinlikle.' => 0\n",
            "'güzel bir çanta ama kızım liseye gideceği için küçük geldi ve iade ettik.orta ve ilkokul için ideal.' => 0\n",
            "'fiyatına göre tatminkar bir ürün.tamamı plastik biraz basit görünüm veriyor. cr2025 pil kullanıyor. sarsıntada sönüyor. üfleme ile yanıp sönmesi güzel..' => 0\n",
            "'fiyatına aldanıpda aldım köpeğim 2 gün tasına hiç yanasmadı yarınısını yedi yemedi' => 0\n",
            "'ürün çok kısa sürede kargoya verildi ürün gayet güzel teşekkkürler' => 1\n",
            "'paketinde rusça yazılar yazan kutuların içindeki bezler  ile paketinde tamamen türkçe yazılar yazan kutuların içindeki bezler çok farklı. dışardan gelenler çok daha ince ve anormal ölçüde sızdırıyor. aktif emici kanallı bezler çıkıncaya kadar prima çok süper iş görüyordu ancak bu son ürünlerde sızdırma problemi çok fazla. bu şikayette bulunan kişilere de tamamen katılıyorum.  bebeğimin doğumundan bu yana kullandığımız ürünler son derece kaliteliydi ama  bu son versiyon ürünlerin kalitesizliği prima kalitesine hiç yakışmadı... prima yetkililerinin piyasadaki bu farklı kalitede satılan ürünlere müdahale etmesinii bekliyorum.tüketicisine saygısını göstermeli ve marka değerini korumalıdır...' => 0\n",
            "\"aldığım en kötü yedek şarj cihazı bu sanırım. bundan daha kapasitesiz ürün s7 edge ' i 2 kez tam dolduruyorken bu %30 a kadar 1 kez dolduruyor.\" => 0\n",
            "'arkadaşlar bu telefonda oda aydınliginda kamerayı açıp biraz loş ışık olsun video çekimi yaptinizmi resmen gece gibi çekim yapıyor fotoğraf değil videosu nesneler zor görünüyor kimse böyle birşey yazmamış cihazı değiştirdim nispeten daha iyi olmasına rağmen benim 8mp telefonum(eski) daha net çekim yapıyor birde geri tuşu bazen algılamiyor' => 0\n",
            "'olumlu yorumlara kanıp aldım fakat doğru şekilde uygulamama rağmen kıvrımlı kenarlar yapışmıyor, uzun bir süre baskı uygulamama rağmen yapışmadı. tavsiye etmiyorum.' => 0\n",
            "'ürün resiminde kendisini asla göstermiyor , elinize ulaştığında resimin ifade ettiğinden çok daha kaliteli ve özellikte olduğunu göreceksiniz . üst kapağının iki parçalı açılımı ve içinde bulunan bölüm ayraçları ile ayrı bir kullanım kolaylığı getirmektedir. evde ilk kullanımımda içine derece koyup test ettim , 32 derece ile çalıştırmaya başladım  ve iki saat sonra iç soğukluğu 15 dereceye düştü , gayet mükemmel bir sonuç. oda sıcaklığında bir şişe suyu ( oda 32 derece ) dolap içinde 2 saat beklettiğimde gayet soğuk bir su temin edebildim . bu denemelerimde dolabın içine kuru buz ve buz torbası koymadan yaptım . i̇kinci ev denememde  dolabın içine  4 adet kuru buz koyup iki saat çalıştırdıktan sonra iç ısısının 6 dereceye düştüğünü gördüm , mükemmel bir sonuç ... henüz vakit bulup arabamda deneyemedim , evde aldığım sonuç  arabamdada  en iyi sonucu alacağımın göstergesi olduğu inancındayım .  elimde aynı tarz başka bir marka araç dolabı mevcut ama bu üründen aldığım sonucunun onda birini alamadım . herkeze tavsiye ederim , asla pişman olmayacağınız hem kaliteli , hem kullanışlı hemde çok güzel soğutan bir ürün .... sizlerde güle güle kullanın ....' => 1\n",
            "'normal musluğa oturmayan eziyet birşey.çokta narin.almasanızda olur.' => 0\n",
            "'ben bu kadar basit bi ürün görmedim.. küçücük bi sünger allah aşkına o süngerle ne kadar temizlik olcak..kesinlikle gereksiz bi ürün.' => 0\n",
            "'süper hızlı ve mükemmel.teşekkürler hepsi̇buradaya.' => 1\n",
            "'-hem konuşmada hem müzik dinlemede ses kalitesi çok iyi' => 1\n",
            "'bu ürünü bende faydası olacagını düşünüp aldım yaklaşık 400 km yol yaptım fakat motorum daha sıkışık çalışıyor çekiş düştü sanki bunun üzerine bugün bujileride degiştirdim ama çok bir fark olmadı zaten bununla  birlikte buradan formula shell 10w 40 api sm sinifi bu motor yagınıda almıştım hava filtresine kadar degiştirdim ama zaten ustamda söylemişti süte ayrana benzer bişey faydası olmaz dedi haklıymış sanırım' => 0\n",
            "'80 kg yum banamisin demiyo..ürün basit gibi.gozuksede işini yapıyor mühim olan nokta o.' => 1\n",
            "'yaklaşık 1 senedir kullanım sonucu;' => 1\n",
            "'üç değişik kokulu şampuanla yıkadım birkaç kere şampuanlı suda beklettim bir kaç gün havalandırdım hala berbat kokuyordu iade ettim' => 0\n",
            "'ürünü kullanabilsem iyi, fakat dış kapıya uygun değil. iki yükseltinin arasındaki boşluk oda kapılarının genişliği kadar. almamdaki amaç çelik dış kapının altına koymaktı fakat, aradaki yer bu kalınlıkta olmadığı için kullananıyorum.' => 0\n",
            "'en büyük tereddütüm parfümün orjinal olup olmamasıydı. malum internet üzerinden satın alınan parfümlerde sık karşılaşılan bir durum. siparişim ertesi gün elime ulaştı ve barkod sorgulaması yaptığımda parfümün orjinalliğini teyit ettim. rahatlıkla alışveriş yapabilirsiniz.' => 1\n",
            "'hic tereddut etmeden alin herseyiyle mukemmel...' => 1\n"
          ]
        }
      ]
    },
    {
      "cell_type": "code",
      "source": [
        "#end"
      ],
      "metadata": {
        "id": "9JhVtyO15bXC"
      },
      "execution_count": 1,
      "outputs": []
    }
  ]
}